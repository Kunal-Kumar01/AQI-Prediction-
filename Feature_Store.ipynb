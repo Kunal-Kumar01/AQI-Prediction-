{
 "cells": [
  {
   "cell_type": "code",
   "execution_count": 2,
   "metadata": {},
   "outputs": [
    {
     "name": "stderr",
     "output_type": "stream",
     "text": [
      "C:\\Users\\kunal\\AppData\\Roaming\\Python\\Python311\\site-packages\\tqdm\\auto.py:21: TqdmWarning: IProgress not found. Please update jupyter and ipywidgets. See https://ipywidgets.readthedocs.io/en/stable/user_install.html\n",
      "  from .autonotebook import tqdm as notebook_tqdm\n"
     ]
    },
    {
     "name": "stdout",
     "output_type": "stream",
     "text": [
      "2025-01-22 23:20:48,493 INFO: Initializing external client\n",
      "2025-01-22 23:20:48,496 INFO: Base URL: https://c.app.hopsworks.ai:443\n",
      "2025-01-22 23:20:52,224 INFO: Python Engine initialized.\n",
      "\n",
      "Logged in to project, explore it here https://c.app.hopsworks.ai:443/p/1211546\n",
      "Connected to Hopsworks Feature Store\n"
     ]
    }
   ],
   "source": [
    "import hopsworks\n",
    "\n",
    "# Explicitly authenticate using the API key\n",
    "project = hopsworks.login(api_key_value=\"KpnqasHfb4WsGo1Z.jp7TSl48y51FcnnVvfgVgRk7cot4me3LXYlde0JOWpnzB0clm5x9Fre7tijqumxU\")\n",
    "fs = project.get_feature_store()\n",
    "\n",
    "print(\"Connected to Hopsworks Feature Store\")\n"
   ]
  },
  {
   "cell_type": "code",
   "execution_count": 4,
   "metadata": {},
   "outputs": [
    {
     "name": "stdout",
     "output_type": "stream",
     "text": [
      "Feature Group created successfully, explore it at \n",
      "https://c.app.hopsworks.ai:443/p/1211546/fs/1199174/fg/1399146\n"
     ]
    },
    {
     "name": "stderr",
     "output_type": "stream",
     "text": [
      "Uploading Dataframe: 100.00% |██████████| Rows 2113/2113 | Elapsed Time: 00:03 | Remaining Time: 00:00\n"
     ]
    },
    {
     "name": "stdout",
     "output_type": "stream",
     "text": [
      "Launching job: aqi_features_1_offline_fg_materialization\n",
      "Job started successfully, you can follow the progress at \n",
      "https://c.app.hopsworks.ai:443/p/1211546/jobs/named/aqi_features_1_offline_fg_materialization/executions\n",
      "Features successfully inserted into the feature group!\n"
     ]
    }
   ],
   "source": [
    "import hopsworks\n",
    "import pandas as pd\n",
    "# Load features from the CSV file\n",
    "features_file = \"processed_features_advanced.csv\"\n",
    "features_df = pd.read_csv(features_file)\n",
    "\n",
    "# Ensure column names match the desired schema\n",
    "features_df = features_df.rename(columns={\n",
    "    \"datetime\": \"date\",\n",
    "    \"pm2_5\": \"components_pm2_5\",\n",
    "    \"pm10\": \"components_pm10\",\n",
    "    \"temperature\": \"weather_temperature\",\n",
    "    \"humidity\": \"weather_humidity\",\n",
    "    \"wind_speed\": \"weather_wind_speed\",\n",
    "    \"precipitation\": \"weather_precipitation\"\n",
    "})\n",
    "\n",
    "# Insert features into the feature group\n",
    "feature_group = fs.get_or_create_feature_group(\n",
    "    name=\"aqi_features\",\n",
    "    version=1,\n",
    "    description=\"Features for AQI prediction\",\n",
    "    primary_key=[\"date\"],  # Specify primary key\n",
    "    online_enabled=True    # Enable online feature storage for real-time inference\n",
    ")\n",
    "\n",
    "feature_group.insert(features_df)\n",
    "\n",
    "print(\"Features successfully inserted into the feature group!\")\n"
   ]
  },
  {
   "cell_type": "code",
   "execution_count": 18,
   "metadata": {},
   "outputs": [
    {
     "name": "stdout",
     "output_type": "stream",
     "text": [
      "2025-01-22 23:46:18,364 INFO: Closing external client and cleaning up certificates.\n",
      "Connection closed.\n",
      "2025-01-22 23:46:18,396 INFO: Initializing external client\n",
      "2025-01-22 23:46:18,399 INFO: Base URL: https://c.app.hopsworks.ai:443\n",
      "2025-01-22 23:46:21,707 INFO: Python Engine initialized.\n",
      "\n",
      "Logged in to project, explore it here https://c.app.hopsworks.ai:443/p/1211546\n",
      "Connected to Hopsworks Feature Store\n",
      "Finished: Reading data from Hopsworks, using Hopsworks Feature Query Service (2.44s) \n",
      "Data fetched successfully from the feature store!\n"
     ]
    }
   ],
   "source": [
    "import hopsworks\n",
    "\n",
    "# Explicitly authenticate using the API key\n",
    "project = hopsworks.login(api_key_value=\"KpnqasHfb4WsGo1Z.jp7TSl48y51FcnnVvfgVgRk7cot4me3LXYlde0JOWpnzB0clm5x9Fre7tijqumxU\")\n",
    "fs = project.get_feature_store()\n",
    "\n",
    "print(\"Connected to Hopsworks Feature Store\")\n",
    "\n",
    "# Get the feature group\n",
    "feature_group = fs.get_feature_group(name=\"aqi_features\", version=1)\n",
    "\n",
    "# Fetch data as a Pandas DataFrame\n",
    "data = feature_group.read()\n",
    "\n",
    "# Separate features and target\n",
    "features = data.drop(columns=[\"aqi\"])  # Replace 'aqi' with your actual target column\n",
    "target = data[\"aqi\"]\n",
    "\n",
    "print(\"Data fetched successfully from the feature store!\")\n"
   ]
  },
  {
   "cell_type": "code",
   "execution_count": null,
   "metadata": {},
   "outputs": [
    {
     "ename": "KeyError",
     "evalue": "\"'aqi' column not found in the DataFrame.\"",
     "output_type": "error",
     "traceback": [
      "\u001b[1;31m---------------------------------------------------------------------------\u001b[0m",
      "\u001b[1;31mKeyError\u001b[0m                                  Traceback (most recent call last)",
      "Cell \u001b[1;32mIn[19], line 27\u001b[0m\n\u001b[0;32m     25\u001b[0m     features \u001b[38;5;241m=\u001b[39m features\u001b[38;5;241m.\u001b[39mdrop(columns\u001b[38;5;241m=\u001b[39m[\u001b[38;5;124m\"\u001b[39m\u001b[38;5;124maqi\u001b[39m\u001b[38;5;124m\"\u001b[39m])\n\u001b[0;32m     26\u001b[0m \u001b[38;5;28;01melse\u001b[39;00m:\n\u001b[1;32m---> 27\u001b[0m     \u001b[38;5;28;01mraise\u001b[39;00m \u001b[38;5;167;01mKeyError\u001b[39;00m(\u001b[38;5;124m\"\u001b[39m\u001b[38;5;124m'\u001b[39m\u001b[38;5;124maqi\u001b[39m\u001b[38;5;124m'\u001b[39m\u001b[38;5;124m column not found in the DataFrame.\u001b[39m\u001b[38;5;124m\"\u001b[39m)\n\u001b[0;32m     29\u001b[0m \u001b[38;5;66;03m# Step 3: Train-Test Split\u001b[39;00m\n\u001b[0;32m     30\u001b[0m X_train, X_test, y_train, y_test \u001b[38;5;241m=\u001b[39m train_test_split(features, target, test_size\u001b[38;5;241m=\u001b[39m\u001b[38;5;241m0.2\u001b[39m, random_state\u001b[38;5;241m=\u001b[39m\u001b[38;5;241m42\u001b[39m)\n",
      "\u001b[1;31mKeyError\u001b[0m: \"'aqi' column not found in the DataFrame.\""
     ]
    }
   ],
   "source": [
    "import pandas as pd\n",
    "from sklearn.model_selection import train_test_split\n",
    "from sklearn.ensemble import RandomForestRegressor\n",
    "from sklearn.metrics import mean_squared_error, mean_absolute_error, r2_score\n",
    "\n",
    "# Step 1: Transform 'date' column into numeric features\n",
    "features[\"date\"] = pd.to_datetime(features[\"date\"], errors=\"coerce\")\n",
    "\n",
    "# Extract useful numeric features from 'date'\n",
    "features[\"date_year\"] = features[\"date\"].dt.year\n",
    "features[\"date_month\"] = features[\"date\"].dt.month\n",
    "features[\"date_day\"] = features[\"date\"].dt.day\n",
    "features[\"date_hour\"] = features[\"date\"].dt.hour\n",
    "features[\"date_minute\"] = features[\"date\"].dt.minute\n",
    "\n",
    "# Convert 'date' to a numeric timestamp\n",
    "features[\"date_timestamp\"] = features[\"date\"].view('int64') // 10**9\n",
    "\n",
    "# Drop the original 'date' column\n",
    "features = features.drop(columns=[\"date\"], errors=\"ignore\")  # Added errors=\"ignore\" for safety\n",
    "\n",
    "# Step 3: Train-Test Split\n",
    "X_train, X_test, y_train, y_test = train_test_split(features, target, test_size=0.2, random_state=42)\n",
    "\n",
    "\n",
    "\n"
   ]
  },
  {
   "cell_type": "code",
   "execution_count": 20,
   "metadata": {},
   "outputs": [
    {
     "name": "stdout",
     "output_type": "stream",
     "text": [
      "Model Performance:\n",
      "RMSE: 0.039411907861542535\n",
      "MAE: 0.006178570340459369\n",
      "R²: 0.9983509512167169\n"
     ]
    }
   ],
   "source": [
    "#Random Forest Regressor\n",
    "\n",
    "# Step 4: Train the Model\n",
    "model = RandomForestRegressor(random_state=42)\n",
    "model.fit(X_train, y_train)\n",
    "\n",
    "# Step 5: Evaluate the Model\n",
    "y_pred = model.predict(X_test)\n",
    "rmse = mean_squared_error(y_test, y_pred, squared=False)\n",
    "mae = mean_absolute_error(y_test, y_pred)\n",
    "r2 = r2_score(y_test, y_pred)\n",
    "\n",
    "print(f\"Model Performance:\\nRMSE: {rmse}\\nMAE: {mae}\\nR²: {r2}\")"
   ]
  },
  {
   "cell_type": "code",
   "execution_count": 30,
   "metadata": {},
   "outputs": [
    {
     "name": "stdout",
     "output_type": "stream",
     "text": [
      "Model: Random_Forest\n",
      "  RMSE: 0.039411907861542535\n",
      "  MAE: 0.006178570340459369\n",
      "  R²: 0.9983509512167169\n",
      "\n",
      "Model: Gradient_Boosting\n",
      "  RMSE: 0.013199563117497901\n",
      "  MAE: 0.0023168300817206495\n",
      "  R²: 0.9998150315318372\n",
      "\n",
      "Model: Linear_Regression\n",
      "  RMSE: 9.674801162219957e-12\n",
      "  MAE: 7.249560815068621e-12\n",
      "  R²: 1.0\n",
      "\n",
      "Model: Ridge_Regression\n",
      "  RMSE: 0.008999796041045022\n",
      "  MAE: 0.005969509625451406\n",
      "  R²: 0.9999140107976446\n",
      "\n"
     ]
    },
    {
     "name": "stderr",
     "output_type": "stream",
     "text": [
      "LinAlgWarning: Ill-conditioned matrix (rcond=5.61126e-17): result may not be accurate.\n"
     ]
    },
    {
     "name": "stdout",
     "output_type": "stream",
     "text": [
      "Model: Support_Vector_Regressor\n",
      "  RMSE: 1.1216669627973712\n",
      "  MAE: 0.6909205057930925\n",
      "  R²: -0.33569236288031834\n",
      "\n",
      "The best model is: Linear_Regression with RMSE: 9.674801162219957e-12\n",
      "2025-01-23 01:28:55,335 INFO: Closing external client and cleaning up certificates.\n",
      "Connection closed.\n",
      "2025-01-23 01:28:55,345 INFO: Initializing external client\n",
      "2025-01-23 01:28:55,347 INFO: Base URL: https://c.app.hopsworks.ai:443\n",
      "2025-01-23 01:28:58,627 INFO: Python Engine initialized.\n",
      "\n",
      "Logged in to project, explore it here https://c.app.hopsworks.ai:443/p/1211546\n"
     ]
    },
    {
     "name": "stderr",
     "output_type": "stream",
     "text": [
      "Uploading: 100.000%|██████████| 2968/2968 elapsed<00:02 remaining<00:00:05,  1.12s/it]\n",
      "Model export complete: 100%|██████████| 6/6 [00:10<00:00,  1.70s/it]                   "
     ]
    },
    {
     "name": "stdout",
     "output_type": "stream",
     "text": [
      "Model created, explore it at https://c.app.hopsworks.ai:443/p/1211546/models/Linear_Regression/1\n",
      "Model registered successfully in Hopsworks Model Registry: Linear_Regression\n",
      "Summary of Model Performance:\n",
      "                      Model          RMSE           MAE        R²\n",
      "0             Random_Forest  3.941191e-02  6.178570e-03  0.998351\n",
      "1         Gradient_Boosting  1.319956e-02  2.316830e-03  0.999815\n",
      "2         Linear_Regression  9.674801e-12  7.249561e-12  1.000000\n",
      "3          Ridge_Regression  8.999796e-03  5.969510e-03  0.999914\n",
      "4  Support_Vector_Regressor  1.121667e+00  6.909205e-01 -0.335692\n"
     ]
    },
    {
     "name": "stderr",
     "output_type": "stream",
     "text": [
      "\n"
     ]
    }
   ],
   "source": [
    "import pandas as pd\n",
    "from sklearn.model_selection import train_test_split\n",
    "from sklearn.metrics import mean_squared_error, mean_absolute_error, r2_score\n",
    "from sklearn.ensemble import RandomForestRegressor, GradientBoostingRegressor\n",
    "from sklearn.linear_model import LinearRegression, Ridge\n",
    "from sklearn.svm import SVR\n",
    "import numpy as np\n",
    "import joblib\n",
    "import hopsworks\n",
    "\n",
    "# Define models to train\n",
    "models = {\n",
    "    \"Random_Forest\": RandomForestRegressor(random_state=42),\n",
    "    \"Gradient_Boosting\": GradientBoostingRegressor(random_state=42),\n",
    "    \"Linear_Regression\": LinearRegression(),\n",
    "    \"Ridge_Regression\": Ridge(alpha=1.0),\n",
    "    \"Support_Vector_Regressor\": SVR(kernel=\"rbf\")\n",
    "}\n",
    "\n",
    "# Train-Test Split\n",
    "X_train, X_test, y_train, y_test = train_test_split(features, target, test_size=0.2, random_state=42)\n",
    "\n",
    "# Step 4: Train and Evaluate Each Model\n",
    "results = []\n",
    "best_model = None\n",
    "best_model_name = None\n",
    "best_rmse = float(\"inf\")  # Initialize with infinity for comparison\n",
    "\n",
    "for model_name, model in models.items():\n",
    "    # Train the model\n",
    "    model.fit(X_train, y_train)\n",
    "    \n",
    "    # Make predictions\n",
    "    y_pred = model.predict(X_test)\n",
    "    \n",
    "    # Evaluate the model\n",
    "    rmse = mean_squared_error(y_test, y_pred, squared=False)\n",
    "    mae = mean_absolute_error(y_test, y_pred)\n",
    "    r2 = r2_score(y_test, y_pred)\n",
    "    \n",
    "    # Store results\n",
    "    results.append({\n",
    "        \"Model\": model_name,\n",
    "        \"RMSE\": rmse,\n",
    "        \"MAE\": mae,\n",
    "        \"R²\": r2\n",
    "    })\n",
    "\n",
    "    # Check for the best model\n",
    "    if rmse < best_rmse:\n",
    "        best_rmse = rmse\n",
    "        best_model = model\n",
    "        best_model_name = model_name\n",
    "\n",
    "    print(f\"Model: {model_name}\")\n",
    "    print(f\"  RMSE: {rmse}\")\n",
    "    print(f\"  MAE: {mae}\")\n",
    "    print(f\"  R²: {r2}\\n\")\n",
    "\n",
    "# Step 5: Store the Best Model in Hopsworks Model Registry\n",
    "if best_model:\n",
    "    print(f\"The best model is: {best_model_name} with RMSE: {best_rmse}\")\n",
    "\n",
    "    # Save the best model locally\n",
    "    joblib.dump(best_model, \"best_model.pkl\")\n",
    "\n",
    "    # Connect to the Hopsworks Model Registry\n",
    "    project = hopsworks.login(api_key_value=\"KpnqasHfb4WsGo1Z.jp7TSl48y51FcnnVvfgVgRk7cot4me3LXYlde0JOWpnzB0clm5x9Fre7tijqumxU\")  # Use your API key\n",
    "    mr = project.get_model_registry()\n",
    "\n",
    "    # Register the model metadata\n",
    "    model_registry = mr.python.create_model(\n",
    "        name=best_model_name,  # Model name complies with naming conventions\n",
    "        metrics={\"rmse\": best_rmse, \"mae\": mae, \"r2\": r2},\n",
    "        description=f\"Best model for AQI prediction: {best_model_name}\"\n",
    "    )\n",
    "\n",
    "    # Upload the saved model file to the registry\n",
    "    model_registry.save(\"best_model.pkl\")\n",
    "    print(f\"Model registered successfully in Hopsworks Model Registry: {best_model_name}\")\n",
    "\n",
    "# Step 6: Display Results\n",
    "results_df = pd.DataFrame(results)\n",
    "print(\"Summary of Model Performance:\")\n",
    "print(results_df)\n"
   ]
  }
 ],
 "metadata": {
  "kernelspec": {
   "display_name": "Python 3",
   "language": "python",
   "name": "python3"
  },
  "language_info": {
   "codemirror_mode": {
    "name": "ipython",
    "version": 3
   },
   "file_extension": ".py",
   "mimetype": "text/x-python",
   "name": "python",
   "nbconvert_exporter": "python",
   "pygments_lexer": "ipython3",
   "version": "3.11.5"
  }
 },
 "nbformat": 4,
 "nbformat_minor": 2
}
