{
 "cells": [
  {
   "cell_type": "code",
   "execution_count": 2,
   "metadata": {},
   "outputs": [
    {
     "name": "stderr",
     "output_type": "stream",
     "text": [
      "C:\\Users\\kunal\\AppData\\Roaming\\Python\\Python311\\site-packages\\tqdm\\auto.py:21: TqdmWarning: IProgress not found. Please update jupyter and ipywidgets. See https://ipywidgets.readthedocs.io/en/stable/user_install.html\n",
      "  from .autonotebook import tqdm as notebook_tqdm\n"
     ]
    },
    {
     "name": "stdout",
     "output_type": "stream",
     "text": [
      "2025-01-22 23:20:48,493 INFO: Initializing external client\n",
      "2025-01-22 23:20:48,496 INFO: Base URL: https://c.app.hopsworks.ai:443\n",
      "2025-01-22 23:20:52,224 INFO: Python Engine initialized.\n",
      "\n",
      "Logged in to project, explore it here https://c.app.hopsworks.ai:443/p/1211546\n",
      "Connected to Hopsworks Feature Store\n"
     ]
    }
   ],
   "source": [
    "import hopsworks\n",
    "\n",
    "# Explicitly authenticate using the API key\n",
    "project = hopsworks.login(api_key_value=\"KpnqasHfb4WsGo1Z.jp7TSl48y51FcnnVvfgVgRk7cot4me3LXYlde0JOWpnzB0clm5x9Fre7tijqumxU\")\n",
    "fs = project.get_feature_store()\n",
    "\n",
    "print(\"Connected to Hopsworks Feature Store\")\n"
   ]
  },
  {
   "cell_type": "code",
   "execution_count": 4,
   "metadata": {},
   "outputs": [
    {
     "name": "stdout",
     "output_type": "stream",
     "text": [
      "Feature Group created successfully, explore it at \n",
      "https://c.app.hopsworks.ai:443/p/1211546/fs/1199174/fg/1399146\n"
     ]
    },
    {
     "name": "stderr",
     "output_type": "stream",
     "text": [
      "Uploading Dataframe: 100.00% |██████████| Rows 2113/2113 | Elapsed Time: 00:03 | Remaining Time: 00:00\n"
     ]
    },
    {
     "name": "stdout",
     "output_type": "stream",
     "text": [
      "Launching job: aqi_features_1_offline_fg_materialization\n",
      "Job started successfully, you can follow the progress at \n",
      "https://c.app.hopsworks.ai:443/p/1211546/jobs/named/aqi_features_1_offline_fg_materialization/executions\n",
      "Features successfully inserted into the feature group!\n"
     ]
    }
   ],
   "source": [
    "import hopsworks\n",
    "import pandas as pd\n",
    "# Load features from the CSV file\n",
    "features_file = \"processed_features_advanced.csv\"\n",
    "features_df = pd.read_csv(features_file)\n",
    "\n",
    "# Ensure column names match the desired schema\n",
    "features_df = features_df.rename(columns={\n",
    "    \"datetime\": \"date\",\n",
    "    \"pm2_5\": \"components_pm2_5\",\n",
    "    \"pm10\": \"components_pm10\",\n",
    "    \"temperature\": \"weather_temperature\",\n",
    "    \"humidity\": \"weather_humidity\",\n",
    "    \"wind_speed\": \"weather_wind_speed\",\n",
    "    \"precipitation\": \"weather_precipitation\"\n",
    "})\n",
    "\n",
    "# Insert features into the feature group\n",
    "feature_group = fs.get_or_create_feature_group(\n",
    "    name=\"aqi_features\",\n",
    "    version=1,\n",
    "    description=\"Features for AQI prediction\",\n",
    "    primary_key=[\"date\"],  # Specify primary key\n",
    "    online_enabled=True    # Enable online feature storage for real-time inference\n",
    ")\n",
    "\n",
    "feature_group.insert(features_df)\n",
    "\n",
    "print(\"Features successfully inserted into the feature group!\")\n"
   ]
  },
  {
   "cell_type": "code",
   "execution_count": 18,
   "metadata": {},
   "outputs": [
    {
     "name": "stdout",
     "output_type": "stream",
     "text": [
      "2025-01-22 23:46:18,364 INFO: Closing external client and cleaning up certificates.\n",
      "Connection closed.\n",
      "2025-01-22 23:46:18,396 INFO: Initializing external client\n",
      "2025-01-22 23:46:18,399 INFO: Base URL: https://c.app.hopsworks.ai:443\n",
      "2025-01-22 23:46:21,707 INFO: Python Engine initialized.\n",
      "\n",
      "Logged in to project, explore it here https://c.app.hopsworks.ai:443/p/1211546\n",
      "Connected to Hopsworks Feature Store\n",
      "Finished: Reading data from Hopsworks, using Hopsworks Feature Query Service (2.44s) \n",
      "Data fetched successfully from the feature store!\n"
     ]
    }
   ],
   "source": [
    "import hopsworks\n",
    "\n",
    "# Explicitly authenticate using the API key\n",
    "project = hopsworks.login(api_key_value=\"KpnqasHfb4WsGo1Z.jp7TSl48y51FcnnVvfgVgRk7cot4me3LXYlde0JOWpnzB0clm5x9Fre7tijqumxU\")\n",
    "fs = project.get_feature_store()\n",
    "\n",
    "print(\"Connected to Hopsworks Feature Store\")\n",
    "\n",
    "# Get the feature group\n",
    "feature_group = fs.get_feature_group(name=\"aqi_features\", version=1)\n",
    "\n",
    "# Fetch data as a Pandas DataFrame\n",
    "data = feature_group.read()\n",
    "\n",
    "# Separate features and target\n",
    "features = data.drop(columns=[\"aqi\"])  # Replace 'aqi' with your actual target column\n",
    "target = data[\"aqi\"]\n",
    "\n",
    "print(\"Data fetched successfully from the feature store!\")\n"
   ]
  }
 ],
 "metadata": {
  "kernelspec": {
   "display_name": "Python 3",
   "language": "python",
   "name": "python3"
  },
  "language_info": {
   "codemirror_mode": {
    "name": "ipython",
    "version": 3
   },
   "file_extension": ".py",
   "mimetype": "text/x-python",
   "name": "python",
   "nbconvert_exporter": "python",
   "pygments_lexer": "ipython3",
   "version": "3.11.5"
  }
 },
 "nbformat": 4,
 "nbformat_minor": 2
}
